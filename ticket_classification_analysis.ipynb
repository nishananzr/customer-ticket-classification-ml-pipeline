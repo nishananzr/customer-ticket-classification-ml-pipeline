{
 "cells": [
  {
   "cell_type": "code",
   "execution_count": 1,
   "id": "bc672fab-1a10-4615-a6bb-9e3ec2f0e1db",
   "metadata": {},
   "outputs": [
    {
     "data": {
      "text/html": [
       "<div>\n",
       "<style scoped>\n",
       "    .dataframe tbody tr th:only-of-type {\n",
       "        vertical-align: middle;\n",
       "    }\n",
       "\n",
       "    .dataframe tbody tr th {\n",
       "        vertical-align: top;\n",
       "    }\n",
       "\n",
       "    .dataframe thead th {\n",
       "        text-align: right;\n",
       "    }\n",
       "</style>\n",
       "<table border=\"1\" class=\"dataframe\">\n",
       "  <thead>\n",
       "    <tr style=\"text-align: right;\">\n",
       "      <th></th>\n",
       "      <th>ticket_id</th>\n",
       "      <th>ticket_text</th>\n",
       "      <th>issue_type</th>\n",
       "      <th>urgency_level</th>\n",
       "      <th>product</th>\n",
       "    </tr>\n",
       "  </thead>\n",
       "  <tbody>\n",
       "    <tr>\n",
       "      <th>0</th>\n",
       "      <td>1</td>\n",
       "      <td>Payment issue for my SmartWatch V2. I was unde...</td>\n",
       "      <td>Billing Problem</td>\n",
       "      <td>Medium</td>\n",
       "      <td>SmartWatch V2</td>\n",
       "    </tr>\n",
       "    <tr>\n",
       "      <th>1</th>\n",
       "      <td>2</td>\n",
       "      <td>Can you tell me more about the UltraClean Vacu...</td>\n",
       "      <td>General Inquiry</td>\n",
       "      <td>NaN</td>\n",
       "      <td>UltraClean Vacuum</td>\n",
       "    </tr>\n",
       "    <tr>\n",
       "      <th>2</th>\n",
       "      <td>3</td>\n",
       "      <td>I ordered SoundWave 300 but got EcoBreeze AC i...</td>\n",
       "      <td>Wrong Item</td>\n",
       "      <td>Medium</td>\n",
       "      <td>SoundWave 300</td>\n",
       "    </tr>\n",
       "    <tr>\n",
       "      <th>3</th>\n",
       "      <td>4</td>\n",
       "      <td>Facing installation issue with PhotoSnap Cam. ...</td>\n",
       "      <td>Installation Issue</td>\n",
       "      <td>Low</td>\n",
       "      <td>PhotoSnap Cam</td>\n",
       "    </tr>\n",
       "    <tr>\n",
       "      <th>4</th>\n",
       "      <td>5</td>\n",
       "      <td>Order #30903 for Vision LED TV is 13 days late...</td>\n",
       "      <td>Late Delivery</td>\n",
       "      <td>NaN</td>\n",
       "      <td>Vision LED TV</td>\n",
       "    </tr>\n",
       "  </tbody>\n",
       "</table>\n",
       "</div>"
      ],
      "text/plain": [
       "   ticket_id                                        ticket_text  \\\n",
       "0          1  Payment issue for my SmartWatch V2. I was unde...   \n",
       "1          2  Can you tell me more about the UltraClean Vacu...   \n",
       "2          3  I ordered SoundWave 300 but got EcoBreeze AC i...   \n",
       "3          4  Facing installation issue with PhotoSnap Cam. ...   \n",
       "4          5  Order #30903 for Vision LED TV is 13 days late...   \n",
       "\n",
       "           issue_type urgency_level            product  \n",
       "0     Billing Problem        Medium      SmartWatch V2  \n",
       "1     General Inquiry           NaN  UltraClean Vacuum  \n",
       "2          Wrong Item        Medium      SoundWave 300  \n",
       "3  Installation Issue           Low      PhotoSnap Cam  \n",
       "4       Late Delivery           NaN      Vision LED TV  "
      ]
     },
     "execution_count": 1,
     "metadata": {},
     "output_type": "execute_result"
    }
   ],
   "source": [
    "#loading data and read the file into a pandas DataFrame\n",
    "\n",
    "import pandas as pd\n",
    "file_name = r'D:\\ml_support_ticket_pipeline\\data\\ai_dev_assignment_tickets_complex_1000.xls'\n",
    "df = pd.read_excel(file_name)\n",
    "df.head()\n"
   ]
  },
  {
   "cell_type": "code",
   "execution_count": 2,
   "id": "de12f469-b522-4a63-b3c1-0f811c4980f8",
   "metadata": {},
   "outputs": [],
   "source": [
    "#initial dataFrame inspection"
   ]
  },
  {
   "cell_type": "code",
   "execution_count": 3,
   "id": "213e2037-6309-40ed-901a-ac1271bd65cf",
   "metadata": {},
   "outputs": [
    {
     "name": "stdout",
     "output_type": "stream",
     "text": [
      "--- DataFrame Shape ---\n",
      "(1000, 5)\n"
     ]
    }
   ],
   "source": [
    "print(\"--- DataFrame Shape ---\")\n",
    "print(df.shape)\n"
   ]
  },
  {
   "cell_type": "code",
   "execution_count": 4,
   "id": "7fb45f78-8372-444a-bfec-25707fb50edd",
   "metadata": {},
   "outputs": [
    {
     "name": "stdout",
     "output_type": "stream",
     "text": [
      "--- DataFrame Info ---\n",
      "<class 'pandas.core.frame.DataFrame'>\n",
      "RangeIndex: 1000 entries, 0 to 999\n",
      "Data columns (total 5 columns):\n",
      " #   Column         Non-Null Count  Dtype \n",
      "---  ------         --------------  ----- \n",
      " 0   ticket_id      1000 non-null   int64 \n",
      " 1   ticket_text    945 non-null    object\n",
      " 2   issue_type     924 non-null    object\n",
      " 3   urgency_level  948 non-null    object\n",
      " 4   product        1000 non-null   object\n",
      "dtypes: int64(1), object(4)\n",
      "memory usage: 39.2+ KB\n"
     ]
    }
   ],
   "source": [
    "print(\"--- DataFrame Info ---\")\n",
    "df.info()"
   ]
  },
  {
   "cell_type": "code",
   "execution_count": 5,
   "id": "fb6057a5-d961-4fa3-8775-6423b23f5ccc",
   "metadata": {},
   "outputs": [
    {
     "name": "stdout",
     "output_type": "stream",
     "text": [
      "--- Column Names ---\n",
      "Index(['ticket_id', 'ticket_text', 'issue_type', 'urgency_level', 'product'], dtype='object')\n"
     ]
    }
   ],
   "source": [
    "print(\"--- Column Names ---\")\n",
    "print(df.columns)"
   ]
  },
  {
   "cell_type": "code",
   "execution_count": 6,
   "id": "c985bcb3-f122-4b68-9c5d-72c5c7ce0317",
   "metadata": {},
   "outputs": [
    {
     "name": "stdout",
     "output_type": "stream",
     "text": [
      "--- Missing values Count Per Column ---\n",
      "ticket_id         0\n",
      "ticket_text      55\n",
      "issue_type       76\n",
      "urgency_level    52\n",
      "product           0\n",
      "dtype: int64\n"
     ]
    }
   ],
   "source": [
    "print(\"--- Missing values Count Per Column ---\")\n",
    "print(df.isnull().sum())"
   ]
  },
  {
   "cell_type": "code",
   "execution_count": 7,
   "id": "52821de9-9cf9-4730-b26e-bcab04857f11",
   "metadata": {},
   "outputs": [
    {
     "name": "stdout",
     "output_type": "stream",
     "text": [
      "--- Duplicate Rows Count ---\n",
      "Total duplicated rows: 0\n"
     ]
    }
   ],
   "source": [
    "print(\"--- Duplicate Rows Count ---\")\n",
    "print(f\"Total duplicated rows: {df.duplicated().sum()}\")"
   ]
  },
  {
   "cell_type": "code",
   "execution_count": 8,
   "id": "5083ebc1-d488-4c33-8e55-9ba31d73c65e",
   "metadata": {},
   "outputs": [
    {
     "name": "stdout",
     "output_type": "stream",
     "text": [
      "--- Distribution of issue_type ---\n",
      "issue_type\n",
      "Billing Problem       146\n",
      "General Inquiry       146\n",
      "Account Access        143\n",
      "Installation Issue    142\n",
      "Product Defect        121\n",
      "Wrong Item            114\n",
      "Late Delivery         112\n",
      "Name: count, dtype: int64\n"
     ]
    }
   ],
   "source": [
    "print(\"--- Distribution of issue_type ---\")\n",
    "print(df['issue_type'].value_counts())"
   ]
  },
  {
   "cell_type": "code",
   "execution_count": 9,
   "id": "c353336e-30bd-4941-bf4f-63649359a4f8",
   "metadata": {},
   "outputs": [
    {
     "name": "stdout",
     "output_type": "stream",
     "text": [
      "--- Distribution of urgency_level ---\n",
      "urgency_level\n",
      "High      330\n",
      "Medium    319\n",
      "Low       299\n",
      "Name: count, dtype: int64\n"
     ]
    }
   ],
   "source": [
    "print(\"--- Distribution of urgency_level ---\")\n",
    "print(df['urgency_level'].value_counts())"
   ]
  },
  {
   "cell_type": "code",
   "execution_count": 10,
   "id": "9b917689-4ea7-4f05-8fea-4ecb2d448b58",
   "metadata": {},
   "outputs": [
    {
     "name": "stdout",
     "output_type": "stream",
     "text": [
      "--- Unique Products ---\n",
      "product\n",
      "RoboChef Blender     116\n",
      "Vision LED TV        109\n",
      "PhotoSnap Cam        103\n",
      "FitRun Treadmill     102\n",
      "PowerMax Battery     102\n",
      "EcoBreeze AC         100\n",
      "ProTab X1             99\n",
      "SmartWatch V2         95\n",
      "SoundWave 300         90\n",
      "UltraClean Vacuum     84\n",
      "Name: count, dtype: int64\n"
     ]
    }
   ],
   "source": [
    "print(\"--- Unique Products ---\")\n",
    "print(df['product'].value_counts())"
   ]
  },
  {
   "cell_type": "code",
   "execution_count": 11,
   "id": "8536c0fb-830d-4bca-b3a4-7a37031ff7ad",
   "metadata": {
    "jupyter": {
     "source_hidden": true
    }
   },
   "outputs": [],
   "source": [
    "#Visualizing the distribution of 'issue_type'"
   ]
  },
  {
   "cell_type": "code",
   "execution_count": 12,
   "id": "e307e6a0-4bbe-463d-a908-7ba4d756dcc2",
   "metadata": {},
   "outputs": [
    {
     "data": {
      "image/png": "[encoded data removed]",
      "text/plain": [
       "<Figure size 1000x600 with 1 Axes>"
      ]
     },
     "metadata": {},
     "output_type": "display_data"
    }
   ],
   "source": [
    "import seaborn as sns\n",
    "import matplotlib.pyplot as plt\n",
    "plt.figure(figsize=(10,6))\n",
    "sns.countplot(data=df, x='issue_type', order= df['issue_type'].value_counts().index)\n",
    "plt.title('Distribution of Customer Support Issue Types',fontsize=16)\n",
    "plt.xticks(rotation=45, ha='right')   #rotating x-axis labels for better visibility \n",
    "\n",
    "plt.xlabel('Issue Type', fontsize=12)\n",
    "plt.ylabel('Number of Tickets', fontsize=12)\n",
    "\n",
    "plt.tight_layout()  #ensuring the layout is tight\n",
    "plt.show()\n"
   ]
  },
  {
   "cell_type": "code",
   "execution_count": 13,
   "id": "52a39d9b-f8de-44e3-8a2f-609b0ec1f49d",
   "metadata": {},
   "outputs": [],
   "source": [
    "#Visualizing the distribution of 'urgency_level'"
   ]
  },
  {
   "cell_type": "code",
   "execution_count": 14,
   "id": "7c76cf13-161b-4223-bc74-3bb8001e258d",
   "metadata": {},
   "outputs": [
    {
     "data": {
      "image/png": "[encoded data removed]",
      "text/plain": [
       "<Figure size 800x500 with 1 Axes>"
      ]
     },
     "metadata": {},
     "output_type": "display_data"
    }
   ],
   "source": [
    "plt.figure(figsize=(8,5))\n",
    "urgency_order = ['Low','Medium','High']\n",
    "sns.countplot(data= df.dropna(subset=['urgency_level']), x='urgency_level', order = urgency_order)\n",
    "\n",
    "plt.title('Distribution of Ticket Urgency Levels', fontsize=16)\n",
    "\n",
    "plt.xlabel('Urgency Level', fontsize=12)\n",
    "plt.ylabel('Number of Tickets', fontsize=12)\n",
    "\n",
    "plt.show()"
   ]
  },
  {
   "cell_type": "code",
   "execution_count": 15,
   "id": "29dbee4a-7886-45c5-bb3d-4ccb38a583ef",
   "metadata": {},
   "outputs": [],
   "source": [
    "# Handling the Missing values\n",
    "# Since almost every coloumn, including the target variables - 'issue_type' and 'urgency_level'also have mising values, developing a comprehensive strategy for all missing data\n",
    "\n",
    "# 'ticket_id : just an identifier, won't be used as a feature\n",
    "# 'ticket_text': primary feature, very important for analysis\n",
    "# 'issue_type': First target variable\n",
    "# 'urgency_level':Second target variable\n",
    "# 'product' : Both Feature and Target for entity extractionn\n",
    "\n",
    "# A row is only useful for training a specific model if it has both its features and its target label.\n",
    "# For \"Issue Type Classifier\" , a row is useless if ticket_text is missing OR issue_type is missing.\n",
    "# For \"Urgency Level Classifier\" , a row is useless if ticket_text is missing OR urgency_level is missing."
   ]
  },
  {
   "cell_type": "code",
   "execution_count": 16,
   "id": "af1063fc-2ed2-4b01-8c36-a53e1df4026c",
   "metadata": {},
   "outputs": [],
   "source": [
    "# Comprehensive strategy for all missing data \n",
    "\n",
    "# drop any row that has a missing value in any of the critical columns (ticket_text, issue_type, urgency_level, product)."
   ]
  },
  {
   "cell_type": "code",
   "execution_count": 17,
   "id": "ab2cb96b-7c23-47df-b636-1ad86112b49b",
   "metadata": {},
   "outputs": [
    {
     "name": "stdout",
     "output_type": "stream",
     "text": [
      "--- Shape of DataFrame before cleaning ---\n",
      "(1000, 5)\n",
      "\n",
      "Missing Values Before Cleaning:\n",
      "ticket_id         0\n",
      "ticket_text      55\n",
      "issue_type       76\n",
      "urgency_level    52\n",
      "product           0\n",
      "dtype: int64\n"
     ]
    }
   ],
   "source": [
    "print(\"--- Shape of DataFrame before cleaning ---\")\n",
    "print(df.shape)\n",
    "print(\"\\nMissing Values Before Cleaning:\")\n",
    "print(df.isnull().sum())"
   ]
  },
  {
   "cell_type": "code",
   "execution_count": 18,
   "id": "a1704661-edfe-4f84-a353-c3dd57ddb4f5",
   "metadata": {},
   "outputs": [],
   "source": [
    "critical_columns =  ['ticket_text', 'issue_type', 'urgency_level', 'product']  # Columns that are essential for analysis\n",
    "df_cleaned = df.dropna(subset = critical_columns)"
   ]
  },
  {
   "cell_type": "code",
   "execution_count": 19,
   "id": "f18b977f-7034-4074-868d-534884262eff",
   "metadata": {},
   "outputs": [
    {
     "name": "stdout",
     "output_type": "stream",
     "text": [
      "--- Shape of DataFrame after cleaning ---\n",
      "(826, 5)\n",
      "\n",
      "Missing values after cleaning:\n",
      "ticket_id        0\n",
      "ticket_text      0\n",
      "issue_type       0\n",
      "urgency_level    0\n",
      "product          0\n",
      "dtype: int64\n"
     ]
    }
   ],
   "source": [
    "print(\"--- Shape of DataFrame after cleaning ---\")\n",
    "print(df_cleaned.shape)\n",
    "print(\"\\nMissing values after cleaning:\")\n",
    "print(df_cleaned.isnull().sum())"
   ]
  },
  {
   "cell_type": "code",
   "execution_count": 20,
   "id": "96f23c35-0584-44be-8199-aa964e00f393",
   "metadata": {},
   "outputs": [
    {
     "name": "stdout",
     "output_type": "stream",
     "text": [
      "First 5 rows of the cleaned DataFrame:\n"
     ]
    },
    {
     "data": {
      "text/html": [
       "<div>\n",
       "<style scoped>\n",
       "    .dataframe tbody tr th:only-of-type {\n",
       "        vertical-align: middle;\n",
       "    }\n",
       "\n",
       "    .dataframe tbody tr th {\n",
       "        vertical-align: top;\n",
       "    }\n",
       "\n",
       "    .dataframe thead th {\n",
       "        text-align: right;\n",
       "    }\n",
       "</style>\n",
       "<table border=\"1\" class=\"dataframe\">\n",
       "  <thead>\n",
       "    <tr style=\"text-align: right;\">\n",
       "      <th></th>\n",
       "      <th>ticket_id</th>\n",
       "      <th>ticket_text</th>\n",
       "      <th>issue_type</th>\n",
       "      <th>urgency_level</th>\n",
       "      <th>product</th>\n",
       "    </tr>\n",
       "  </thead>\n",
       "  <tbody>\n",
       "    <tr>\n",
       "      <th>0</th>\n",
       "      <td>1</td>\n",
       "      <td>Payment issue for my SmartWatch V2. I was unde...</td>\n",
       "      <td>Billing Problem</td>\n",
       "      <td>Medium</td>\n",
       "      <td>SmartWatch V2</td>\n",
       "    </tr>\n",
       "    <tr>\n",
       "      <th>1</th>\n",
       "      <td>3</td>\n",
       "      <td>I ordered SoundWave 300 but got EcoBreeze AC i...</td>\n",
       "      <td>Wrong Item</td>\n",
       "      <td>Medium</td>\n",
       "      <td>SoundWave 300</td>\n",
       "    </tr>\n",
       "    <tr>\n",
       "      <th>2</th>\n",
       "      <td>4</td>\n",
       "      <td>Facing installation issue with PhotoSnap Cam. ...</td>\n",
       "      <td>Installation Issue</td>\n",
       "      <td>Low</td>\n",
       "      <td>PhotoSnap Cam</td>\n",
       "    </tr>\n",
       "    <tr>\n",
       "      <th>3</th>\n",
       "      <td>6</td>\n",
       "      <td>Can you tell me more about the PhotoSnap Cam w...</td>\n",
       "      <td>General Inquiry</td>\n",
       "      <td>Medium</td>\n",
       "      <td>PhotoSnap Cam</td>\n",
       "    </tr>\n",
       "    <tr>\n",
       "      <th>4</th>\n",
       "      <td>7</td>\n",
       "      <td>is malfunction. It stopped working after just...</td>\n",
       "      <td>Product Defect</td>\n",
       "      <td>Low</td>\n",
       "      <td>EcoBreeze AC</td>\n",
       "    </tr>\n",
       "  </tbody>\n",
       "</table>\n",
       "</div>"
      ],
      "text/plain": [
       "   ticket_id                                        ticket_text  \\\n",
       "0          1  Payment issue for my SmartWatch V2. I was unde...   \n",
       "1          3  I ordered SoundWave 300 but got EcoBreeze AC i...   \n",
       "2          4  Facing installation issue with PhotoSnap Cam. ...   \n",
       "3          6  Can you tell me more about the PhotoSnap Cam w...   \n",
       "4          7   is malfunction. It stopped working after just...   \n",
       "\n",
       "           issue_type urgency_level        product  \n",
       "0     Billing Problem        Medium  SmartWatch V2  \n",
       "1          Wrong Item        Medium  SoundWave 300  \n",
       "2  Installation Issue           Low  PhotoSnap Cam  \n",
       "3     General Inquiry        Medium  PhotoSnap Cam  \n",
       "4      Product Defect           Low   EcoBreeze AC  "
      ]
     },
     "execution_count": 20,
     "metadata": {},
     "output_type": "execute_result"
    }
   ],
   "source": [
    "df_cleaned = df_cleaned.reset_index(drop=True)\n",
    "print(\"First 5 rows of the cleaned DataFrame:\")\n",
    "df_cleaned.head()"
   ]
  },
  {
   "cell_type": "code",
   "execution_count": 21,
   "id": "b43c7e63-c8ac-4cf0-a50b-3c9565dcbf89",
   "metadata": {},
   "outputs": [],
   "source": [
    "# Text preprocessing \n",
    "# cleaning the 'ticket_text' column and converting to a standardized format"
   ]
  },
  {
   "cell_type": "code",
   "execution_count": 22,
   "id": "1b791ed8-1460-4c87-8100-5596540cec15",
   "metadata": {
    "scrolled": true
   },
   "outputs": [
    {
     "name": "stderr",
     "output_type": "stream",
     "text": [
      "[nltk_data] Downloading package punkt_tab to\n",
      "[nltk_data]     C:\\Users\\HP\\AppData\\Roaming\\nltk_data...\n",
      "[nltk_data]   Package punkt_tab is already up-to-date!\n",
      "[nltk_data] Downloading package stopwords to\n",
      "[nltk_data]     C:\\Users\\HP\\AppData\\Roaming\\nltk_data...\n",
      "[nltk_data]   Package stopwords is already up-to-date!\n",
      "[nltk_data] Downloading package wordnet to\n",
      "[nltk_data]     C:\\Users\\HP\\AppData\\Roaming\\nltk_data...\n",
      "[nltk_data]   Package wordnet is already up-to-date!\n",
      "[nltk_data] Downloading package omw-1.4 to\n",
      "[nltk_data]     C:\\Users\\HP\\AppData\\Roaming\\nltk_data...\n",
      "[nltk_data]   Package omw-1.4 is already up-to-date!\n"
     ]
    },
    {
     "data": {
      "text/html": [
       "<div>\n",
       "<style scoped>\n",
       "    .dataframe tbody tr th:only-of-type {\n",
       "        vertical-align: middle;\n",
       "    }\n",
       "\n",
       "    .dataframe tbody tr th {\n",
       "        vertical-align: top;\n",
       "    }\n",
       "\n",
       "    .dataframe thead th {\n",
       "        text-align: right;\n",
       "    }\n",
       "</style>\n",
       "<table border=\"1\" class=\"dataframe\">\n",
       "  <thead>\n",
       "    <tr style=\"text-align: right;\">\n",
       "      <th></th>\n",
       "      <th>ticket_text</th>\n",
       "      <th>processed_text</th>\n",
       "    </tr>\n",
       "  </thead>\n",
       "  <tbody>\n",
       "    <tr>\n",
       "      <th>0</th>\n",
       "      <td>Payment issue for my SmartWatch V2. I was unde...</td>\n",
       "      <td>payment issue smartwatch underbilled order</td>\n",
       "    </tr>\n",
       "    <tr>\n",
       "      <th>1</th>\n",
       "      <td>I ordered SoundWave 300 but got EcoBreeze AC i...</td>\n",
       "      <td>ordered soundwave got ecobreeze instead order ...</td>\n",
       "    </tr>\n",
       "    <tr>\n",
       "      <th>2</th>\n",
       "      <td>Facing installation issue with PhotoSnap Cam. ...</td>\n",
       "      <td>facing installation issue photosnap cam setup ...</td>\n",
       "    </tr>\n",
       "    <tr>\n",
       "      <th>3</th>\n",
       "      <td>Can you tell me more about the PhotoSnap Cam w...</td>\n",
       "      <td>tell photosnap cam warranty also available red</td>\n",
       "    </tr>\n",
       "    <tr>\n",
       "      <th>4</th>\n",
       "      <td>is malfunction. It stopped working after just...</td>\n",
       "      <td>malfunction stopped working day</td>\n",
       "    </tr>\n",
       "  </tbody>\n",
       "</table>\n",
       "</div>"
      ],
      "text/plain": [
       "                                         ticket_text  \\\n",
       "0  Payment issue for my SmartWatch V2. I was unde...   \n",
       "1  I ordered SoundWave 300 but got EcoBreeze AC i...   \n",
       "2  Facing installation issue with PhotoSnap Cam. ...   \n",
       "3  Can you tell me more about the PhotoSnap Cam w...   \n",
       "4   is malfunction. It stopped working after just...   \n",
       "\n",
       "                                      processed_text  \n",
       "0         payment issue smartwatch underbilled order  \n",
       "1  ordered soundwave got ecobreeze instead order ...  \n",
       "2  facing installation issue photosnap cam setup ...  \n",
       "3     tell photosnap cam warranty also available red  \n",
       "4                    malfunction stopped working day  "
      ]
     },
     "execution_count": 22,
     "metadata": {},
     "output_type": "execute_result"
    }
   ],
   "source": [
    "import re\n",
    "import nltk\n",
    "nltk.download('punkt_tab') # for tokenization\n",
    "nltk.download('stopwords')  # for stopwords\n",
    "nltk.download('wordnet')  # for lemmatization\n",
    "nltk.download('omw-1.4')  #companion for wordnet\n",
    "\n",
    "from nltk.corpus import stopwords\n",
    "from nltk.stem import WordNetLemmatizer\n",
    "from nltk.tokenize import word_tokenize\n",
    "\n",
    "\n",
    "\n",
    "lemmatizer = WordNetLemmatizer()\n",
    "stop_words = set(stopwords.words('english'))\n",
    "\n",
    "#creating python function to do the process of text cleaning\n",
    "\n",
    "def preprocess_text(text):\n",
    "    #lowercase handling and removing special characters\n",
    "\n",
    "    text = re.sub(r'[^a-zA-Z\\s]','',text, re.I | re.A)\n",
    "    text = text.lower()\n",
    "    text = text.strip()\n",
    "\n",
    "    #tokenizing \n",
    "\n",
    "    tokens = word_tokenize(text)\n",
    "\n",
    "    #lemmatization and removal of stop words\n",
    "\n",
    "    processed_tokens = [lemmatizer.lemmatize(word) for word in tokens if word not in stop_words and len(word) > 2]\n",
    "\n",
    "    #join back to string\n",
    "\n",
    "    return \" \".join(processed_tokens)\n",
    "\n",
    "df_cleaned['processed_text'] = df_cleaned['ticket_text'].apply(preprocess_text)\n",
    "df_cleaned[['ticket_text', 'processed_text']].head()\n",
    "    "
   ]
  },
  {
   "cell_type": "code",
   "execution_count": 23,
   "id": "98ce2f1e-c08b-4531-bf56-9bd7a927332a",
   "metadata": {},
   "outputs": [],
   "source": [
    "# Feature Engineering\n",
    "# Vectorization of the text data using TF-IDF"
   ]
  },
  {
   "cell_type": "code",
   "execution_count": 24,
   "id": "5525a0e3-9389-480b-a5bc-6a5004d390ea",
   "metadata": {},
   "outputs": [
    {
     "name": "stdout",
     "output_type": "stream",
     "text": [
      "--- Sample of processed text to be vectorized ---\n"
     ]
    },
    {
     "data": {
      "text/plain": [
       "0           payment issue smartwatch underbilled order\n",
       "1    ordered soundwave got ecobreeze instead order ...\n",
       "2    facing installation issue photosnap cam setup ...\n",
       "3       tell photosnap cam warranty also available red\n",
       "4                      malfunction stopped working day\n",
       "Name: processed_text, dtype: object"
      ]
     },
     "execution_count": 24,
     "metadata": {},
     "output_type": "execute_result"
    }
   ],
   "source": [
    "from sklearn.feature_extraction.text import TfidfVectorizer\n",
    "\n",
    "#defining primary feature set\n",
    "X_text = df_cleaned['processed_text'] \n",
    "X_text.fillna(\"\", inplace=True) #safety check for any empty strings after processing\n",
    "\n",
    "print(\"--- Sample of processed text to be vectorized ---\")\n",
    "X_text.head()\n"
   ]
  },
  {
   "cell_type": "code",
   "execution_count": 25,
   "id": "4be2ea35-dafc-4712-9675-54eccd2838a6",
   "metadata": {},
   "outputs": [
    {
     "name": "stdout",
     "output_type": "stream",
     "text": [
      "Type of the output: <class 'scipy.sparse._csr.csr_matrix'>\n",
      "Shape of the TF-IDF feature matrix (rows, features): (826, 515)\n"
     ]
    }
   ],
   "source": [
    "# initializing the tf-idf vectorizer\n",
    "\n",
    "tfidf_vectorizer = TfidfVectorizer(max_features=2000, ngram_range=(1, 2))\n",
    "\n",
    "# fitting the vectorizer to the data and transforming the text into numerical matrix\n",
    "\n",
    "X_tfidf = tfidf_vectorizer.fit_transform(X_text)\n",
    "\n",
    "#inspecting the results\n",
    "print(\"Type of the output:\", type(X_tfidf))\n",
    "print(\"Shape of the TF-IDF feature matrix (rows, features):\", X_tfidf.shape)"
   ]
  },
  {
   "cell_type": "code",
   "execution_count": 26,
   "id": "86d1610b-e0c8-495f-9d06-97e988c1c95b",
   "metadata": {},
   "outputs": [],
   "source": [
    "# Creating additional features"
   ]
  },
  {
   "cell_type": "code",
   "execution_count": 27,
   "id": "4d6764cb-2889-475d-a4bb-e0c0812d8b21",
   "metadata": {},
   "outputs": [
    {
     "name": "stdout",
     "output_type": "stream",
     "text": [
      "DataFrame with new features:\n",
      "                                         ticket_text  ticket_length  \\\n",
      "0  Payment issue for my SmartWatch V2. I was unde...             12   \n",
      "1  I ordered SoundWave 300 but got EcoBreeze AC i...             14   \n",
      "2  Facing installation issue with PhotoSnap Cam. ...             11   \n",
      "3  Can you tell me more about the PhotoSnap Cam w...             16   \n",
      "4   is malfunction. It stopped working after just...              9   \n",
      "\n",
      "   sentiment_polarity  \n",
      "0                 0.0  \n",
      "1                 0.0  \n",
      "2                -0.5  \n",
      "3                 0.3  \n",
      "4                 0.0  \n",
      "Shape of TF-IDF matrix: (826, 515)\n",
      "Shape of additional features matrix: (826, 2)\n",
      "Type of the combined feature set: <class 'scipy.sparse._coo.coo_matrix'>\n",
      "Shape of the final combined feature matrix: (826, 517)\n"
     ]
    }
   ],
   "source": [
    "from textblob import TextBlob\n",
    "import numpy as np\n",
    "from scipy.sparse import hstack\n",
    "from sklearn.preprocessing import StandardScaler\n",
    "\n",
    "#ticket_length (No.of words)\n",
    "df_cleaned['ticket_length'] = df_cleaned['ticket_text'].apply(lambda x: len(x.split()))\n",
    "\n",
    "#sentiment score (polarity)\n",
    "df_cleaned['sentiment_polarity'] = df_cleaned['ticket_text'].apply(lambda x: TextBlob(x).sentiment.polarity)\n",
    "\n",
    "#inspecting new features\n",
    "print(\"DataFrame with new features:\")\n",
    "print(df_cleaned[['ticket_text', 'ticket_length', 'sentiment_polarity']].head())\n",
    "\n",
    "#re-run tf-idf vectorization\n",
    "from sklearn.feature_extraction.text import TfidfVectorizer\n",
    "\n",
    "tfidf_vectorizer = TfidfVectorizer(max_features=2000, ngram_range=(1, 2))\n",
    "X_tfidf = tfidf_vectorizer.fit_transform(df_cleaned['processed_text'])\n",
    "\n",
    "# preparing the additional features for merging by converting them to a numpy array\n",
    "additional_features = df_cleaned[['ticket_length', 'sentiment_polarity']].values\n",
    "\n",
    "#scaling numerical features\n",
    "scaler = StandardScaler()\n",
    "additional_features_scaled = scaler.fit_transform(additional_features)\n",
    "\n",
    "print(\"Shape of TF-IDF matrix:\", X_tfidf.shape)\n",
    "print(\"Shape of additional features matrix:\", additional_features_scaled.shape)\n",
    "\n",
    "# Combining TF-IDF features with the new numerical features\n",
    "X_combined = hstack([X_tfidf, additional_features_scaled])\n",
    "\n",
    "print(\"Type of the combined feature set:\", type(X_combined))\n",
    "print(\"Shape of the final combined feature matrix:\", X_combined.shape)"
   ]
  },
  {
   "cell_type": "code",
   "execution_count": 28,
   "id": "663fc9d6-bfc0-4908-b681-28bba8017d02",
   "metadata": {},
   "outputs": [],
   "source": [
    "#splitting the final combined data"
   ]
  },
  {
   "cell_type": "code",
   "execution_count": 29,
   "id": "46a28e25-c1fb-4def-8f67-1f5aed1be8c1",
   "metadata": {},
   "outputs": [
    {
     "name": "stdout",
     "output_type": "stream",
     "text": [
      "Shape of X_train_issue: (660, 517)\n",
      "Shape of X_test_issue: (166, 517)\n"
     ]
    }
   ],
   "source": [
    "from sklearn.model_selection import train_test_split\n",
    "\n",
    "y_issue = df_cleaned['issue_type']\n",
    "y_urgency = df_cleaned['urgency_level']\n",
    "\n",
    "# split data for the issue_type classifier (Model1)\n",
    "X_train_issue, X_test_issue, y_train_issue, y_test_issue = train_test_split(\n",
    "    X_combined, \n",
    "    y_issue,\n",
    "    test_size=0.2,\n",
    "    random_state=42,\n",
    "    stratify=y_issue\n",
    ")\n",
    "# split data for the urgecny_level classifier (Model2)\n",
    "X_train_urgency, X_test_urgency, y_train_urgency, y_test_urgency = train_test_split(\n",
    "    X_combined,       \n",
    "    y_urgency,\n",
    "    test_size=0.2,\n",
    "    random_state=42,\n",
    "    stratify=y_urgency\n",
    ")\n",
    "print(\"Shape of X_train_issue:\", X_train_issue.shape)\n",
    "print(\"Shape of X_test_issue:\", X_test_issue.shape)\n",
    "    "
   ]
  },
  {
   "cell_type": "code",
   "execution_count": 30,
   "id": "6e5ef827-035c-487c-a458-78ef0929ba39",
   "metadata": {},
   "outputs": [],
   "source": [
    "# Build , Train and Evaluation of Model1 (Issue type Classifier)"
   ]
  },
  {
   "cell_type": "code",
   "execution_count": 31,
   "id": "7de14b47-78f5-41e6-ada6-41295cd6d90e",
   "metadata": {},
   "outputs": [
    {
     "name": "stdout",
     "output_type": "stream",
     "text": [
      "Training complete.\n"
     ]
    }
   ],
   "source": [
    "from sklearn.linear_model import LogisticRegression\n",
    "from sklearn.metrics import classification_report, confusion_matrix\n",
    "import seaborn as sns\n",
    "import matplotlib.pyplot as plt\n",
    "\n",
    "# initializing and training the model1\n",
    "issue_classifier = LogisticRegression(max_iter=1000, random_state=42)\n",
    "issue_classifier.fit(X_train_issue, y_train_issue)\n",
    "print(\"Training complete.\")"
   ]
  },
  {
   "cell_type": "code",
   "execution_count": 32,
   "id": "8f467dc8-d052-4704-8f98-15e3d8b4f116",
   "metadata": {},
   "outputs": [],
   "source": [
    "# make predictions on test Set\n",
    "y_pred_issue = issue_classifier.predict(X_test_issue)"
   ]
  },
  {
   "cell_type": "code",
   "execution_count": 33,
   "id": "f982bf69-f024-40c8-a8cb-28dde36a3276",
   "metadata": {},
   "outputs": [
    {
     "name": "stdout",
     "output_type": "stream",
     "text": [
      "Classification Report:\n",
      "                    precision    recall  f1-score   support\n",
      "\n",
      "    Account Access       1.00      1.00      1.00        27\n",
      "   Billing Problem       1.00      1.00      1.00        26\n",
      "   General Inquiry       1.00      1.00      1.00        25\n",
      "Installation Issue       1.00      1.00      1.00        26\n",
      "     Late Delivery       1.00      1.00      1.00        19\n",
      "    Product Defect       1.00      1.00      1.00        22\n",
      "        Wrong Item       1.00      1.00      1.00        21\n",
      "\n",
      "          accuracy                           1.00       166\n",
      "         macro avg       1.00      1.00      1.00       166\n",
      "      weighted avg       1.00      1.00      1.00       166\n",
      "\n"
     ]
    }
   ],
   "source": [
    "# Model1 evaluation\n",
    "print(\"Classification Report:\")\n",
    "print(classification_report(y_test_issue, y_pred_issue))"
   ]
  },
  {
   "cell_type": "code",
   "execution_count": 34,
   "id": "565fe06d-96b8-4cfd-b6b7-281243ec003c",
   "metadata": {},
   "outputs": [
    {
     "name": "stdout",
     "output_type": "stream",
     "text": [
      "---Confusion Matrix---\n"
     ]
    },
    {
     "data": {
      "image/png": "[encoded data removed]",
      "text/plain": [
       "<Figure size 800x600 with 2 Axes>"
      ]
     },
     "metadata": {},
     "output_type": "display_data"
    }
   ],
   "source": [
    "# Visualization of the confusion matrix\n",
    "print(\"---Confusion Matrix---\")\n",
    "cm_issue = confusion_matrix(y_test_issue, y_pred_issue)\n",
    "plt.figure(figsize=(8, 6))\n",
    "sns.heatmap(cm_issue, annot=True, fmt='d', cmap='Blues', xticklabels=issue_classifier.classes_, yticklabels=issue_classifier.classes_)\n",
    "plt.title('Confusion Matrix for Issue Type')\n",
    "plt.ylabel('Actual')\n",
    "plt.xlabel('Predicted')\n",
    "plt.show()\n"
   ]
  },
  {
   "cell_type": "code",
   "execution_count": 35,
   "id": "a772099b-1580-4e21-b33b-38ade594225c",
   "metadata": {},
   "outputs": [
    {
     "name": "stdout",
     "output_type": "stream",
     "text": [
      "Checking for these keywords: ['Billing Problem', 'Wrong Item', 'Installation Issue', 'General Inquiry', 'Product Defect', 'Late Delivery', 'Account Access']\n",
      "Found 120 rows where the 'issue_type' label is literally present in the 'ticket_text'.\n",
      "\n",
      "This is a major source of data leakage.\n",
      "Example leaky rows:\n",
      "                                          ticket_text          issue_type  \\\n",
      "2   Facing installation issue with PhotoSnap Cam. ...  Installation Issue   \n",
      "5   Facing installation issue with RoboChef Blende...  Installation Issue   \n",
      "18  Facing installation issue wit Vision LED TV. S...  Installation Issue   \n",
      "29  Facing installation issue with FitRun Treadmil...  Installation Issue   \n",
      "33  Facing installation issue with RoboChef Blende...  Installation Issue   \n",
      "\n",
      "   leaked_keyword_found  \n",
      "2    Installation Issue  \n",
      "5    Installation Issue  \n",
      "18   Installation Issue  \n",
      "29   Installation Issue  \n",
      "33   Installation Issue  \n"
     ]
    }
   ],
   "source": [
    "# The evaluation scores are too perfect, so suspecting data leakage\n",
    "# diagnosis test for data leakage\n",
    "\n",
    "# Get a list of the unique issue types\n",
    "issue_types_list = df_cleaned['issue_type'].unique().tolist()\n",
    "print(\"Checking for these keywords:\", issue_types_list)\n",
    "\n",
    "# A function to check if any of the issue types are in the ticket text\n",
    "def find_leaked_keywords(text, keywords):\n",
    "    for keyword in keywords:\n",
    "        if re.search(r'\\b' + re.escape(keyword) + r'\\b', text, re.IGNORECASE):\n",
    "            return keyword \n",
    "    return None \n",
    "\n",
    "# Apply this function to the original ticket text\n",
    "df_cleaned['leaked_keyword_found'] = df_cleaned['ticket_text'].apply(\n",
    "    lambda text: find_leaked_keywords(text, issue_types_list)\n",
    ")\n",
    "\n",
    "leaky_rows = df_cleaned[df_cleaned['leaked_keyword_found'] == df_cleaned['issue_type']]\n",
    "\n",
    "print(f\"Found {len(leaky_rows)} rows where the 'issue_type' label is literally present in the 'ticket_text'.\")\n",
    "\n",
    "if len(leaky_rows) > 0:\n",
    "    print(\"\\nThis is a major source of data leakage.\")\n",
    "    print(\"Example leaky rows:\")\n",
    "    print(leaky_rows[['ticket_text', 'issue_type', 'leaked_keyword_found']].head())\n",
    "else:\n",
    "    print(\"No direct leakage of 'issue_type' keywords found in 'ticket_text'\")"
   ]
  },
  {
   "cell_type": "code",
   "execution_count": 36,
   "id": "dba1ec01-a26c-4c52-97c0-ac1e32033c99",
   "metadata": {},
   "outputs": [],
   "source": [
    "# Build , Train and Evaluation of Model2 (Urgency Level Classifier)"
   ]
  },
  {
   "cell_type": "code",
   "execution_count": 37,
   "id": "1ddbe973-5a3d-45ec-b119-50dd929214b1",
   "metadata": {},
   "outputs": [
    {
     "name": "stdout",
     "output_type": "stream",
     "text": [
      "Training complete.\n"
     ]
    }
   ],
   "source": [
    "from sklearn.ensemble import RandomForestClassifier\n",
    "from sklearn.metrics import classification_report, confusion_matrix\n",
    "import seaborn as sns\n",
    "import matplotlib.pyplot as plt\n",
    "\n",
    "#initializing and training the model2\n",
    "urgency_classifier = RandomForestClassifier(n_estimators=100, random_state = 42)\n",
    "urgency_classifier.fit(X_train_urgency, y_train_urgency)\n",
    "print(\"Training complete.\")\n"
   ]
  },
  {
   "cell_type": "code",
   "execution_count": 38,
   "id": "c40b3b6b-afa3-4f4a-beb3-4da3789c927a",
   "metadata": {},
   "outputs": [],
   "source": [
    "# making predictions on the test set\n",
    "y_pred_urgency = urgency_classifier.predict(X_test_urgency)"
   ]
  },
  {
   "cell_type": "code",
   "execution_count": 39,
   "id": "0a06cd04-5469-4051-afb7-440763a750d5",
   "metadata": {},
   "outputs": [
    {
     "name": "stdout",
     "output_type": "stream",
     "text": [
      "Classification Report:\n",
      "              precision    recall  f1-score   support\n",
      "\n",
      "        High       0.41      0.36      0.39        58\n",
      "         Low       0.34      0.40      0.37        52\n",
      "      Medium       0.30      0.29      0.29        56\n",
      "\n",
      "    accuracy                           0.35       166\n",
      "   macro avg       0.35      0.35      0.35       166\n",
      "weighted avg       0.35      0.35      0.35       166\n",
      "\n"
     ]
    }
   ],
   "source": [
    "# Model2 Evaluation\n",
    "print(\"Classification Report:\")\n",
    "print(classification_report(y_test_urgency, y_pred_urgency))"
   ]
  },
  {
   "cell_type": "code",
   "execution_count": 40,
   "id": "34ba4488-0148-4be6-abf9-ecfb9bdff821",
   "metadata": {},
   "outputs": [
    {
     "name": "stdout",
     "output_type": "stream",
     "text": [
      "\n",
      "\n",
      "--- Testing with a simpler model (Logistic Regression) ---\n",
      "\n",
      "--- Evaluation for Urgency Level Classifier (Logistic Regression) ---\n",
      "              precision    recall  f1-score   support\n",
      "\n",
      "        High       0.35      0.40      0.37        58\n",
      "         Low       0.38      0.33      0.35        52\n",
      "      Medium       0.34      0.34      0.34        56\n",
      "\n",
      "    accuracy                           0.36       166\n",
      "   macro avg       0.36      0.35      0.35       166\n",
      "weighted avg       0.36      0.36      0.35       166\n",
      "\n"
     ]
    }
   ],
   "source": [
    "from sklearn.linear_model import LogisticRegression\n",
    "\n",
    "print(\"\\n\\n--- Testing with a simpler model (Logistic Regression) ---\")\n",
    "urgency_classifier_lr = LogisticRegression(max_iter=1000, random_state=42)\n",
    "urgency_classifier_lr.fit(X_train_urgency, y_train_urgency)\n",
    "y_pred_urgency_lr = urgency_classifier_lr.predict(X_test_urgency)\n",
    "\n",
    "print(\"\\n--- Evaluation for Urgency Level Classifier (Logistic Regression) ---\")\n",
    "print(classification_report(y_test_urgency, y_pred_urgency_lr))"
   ]
  },
  {
   "cell_type": "code",
   "execution_count": 41,
   "id": "b734e5ff-5728-4cf8-8ef4-1b24709d276a",
   "metadata": {},
   "outputs": [],
   "source": [
    "# testing with a simpler model also failed to give an accurate result, since this is an analysis, I am tend to analyze the feature importance"
   ]
  },
  {
   "cell_type": "code",
   "execution_count": 42,
   "id": "f05bbd1e-bc81-4589-9ef8-bdfc0bb127d4",
   "metadata": {},
   "outputs": [
    {
     "name": "stdout",
     "output_type": "stream",
     "text": [
      "--- Top 20 Most Important Features for Predicting Urgency ---\n",
      "                feature  importance\n",
      "515       ticket_length    0.021515\n",
      "271               order    0.016827\n",
      "161                 got    0.012560\n",
      "186               issue    0.012484\n",
      "109                 day    0.012030\n",
      "289             ordered    0.011553\n",
      "371          smartwatch    0.011464\n",
      "8                  also    0.010961\n",
      "358            response    0.010009\n",
      "516  sentiment_polarity    0.009860\n",
      "248               march    0.009770\n",
      "507             working    0.009654\n",
      "11                april    0.009447\n",
      "416     stopped working    0.009139\n",
      "120           ecobreeze    0.008976\n",
      "306             payment    0.008973\n",
      "307       payment issue    0.008578\n",
      "509         working day    0.008482\n",
      "445           treadmill    0.008450\n",
      "214                late    0.008241\n"
     ]
    }
   ],
   "source": [
    "# feature importance analysis \n",
    "import pandas as pd\n",
    "tfidf_feature_names = list(tfidf_vectorizer.get_feature_names_out())\n",
    "additional_feature_names = ['ticket_length', 'sentiment_polarity']\n",
    "all_feature_names = tfidf_feature_names + additional_feature_names\n",
    "importances = urgency_classifier.feature_importances_\n",
    "\n",
    "if len(all_feature_names) == len(importances):\n",
    "    feature_importance_df = pd.DataFrame({'feature': all_feature_names, 'importance': importances})\n",
    "    feature_importance_df = feature_importance_df.sort_values(by='importance', ascending=False)\n",
    "\n",
    "    print(\"--- Top 20 Most Important Features for Predicting Urgency ---\")\n",
    "    print(feature_importance_df.head(20))\n",
    "else:\n",
    "    print(\"Error: Lengths still do not match. Please re-run the cells in order.\")\n",
    "    print(f\"Number of names: {len(all_feature_names)}\")\n",
    "    print(f\"Number of scores: {len(importances)}\")"
   ]
  },
  {
   "cell_type": "code",
   "execution_count": 43,
   "id": "1bdcb98a-d998-4d9b-b32c-4d46d633b730",
   "metadata": {},
   "outputs": [
    {
     "data": {
      "text/plain": [
       "'\\nUrgency Model: Final Analysis\\nThe Urgency Level Classifier consistently scored a low F1-score of ~0.35 with both RandomForest and Logistic Regression. Feature importance analysis confirmed that the model was not picking up on strong, intuitive \"urgent\" keywords.\\nAn attempt to engineer specific lexicon-based features (counting words like \\'urgent\\', \\'broken\\', etc.) also failed to improve performance.\\nConclusion: The features available in this dataset, using traditional NLP techniques, are insufficient to reliably predict urgency. This suggests the signals for urgency are either too complex for this type of model or the original labels are noisy. \\nFurther improvements would require advanced models beyond the scope of this task. So that Proceeding to Entity Extraction.\\n'"
      ]
     },
     "execution_count": 43,
     "metadata": {},
     "output_type": "execute_result"
    }
   ],
   "source": [
    "\"\"\"\n",
    "Urgency Model: Final Analysis\n",
    "The Urgency Level Classifier consistently scored a low F1-score of ~0.35 with both RandomForest and Logistic Regression. Feature importance analysis confirmed that the model was not picking up on strong, intuitive \"urgent\" keywords.\n",
    "An attempt to engineer specific lexicon-based features (counting words like 'urgent', 'broken', etc.) also failed to improve performance.\n",
    "Conclusion: The features available in this dataset, using traditional NLP techniques, are insufficient to reliably predict urgency. This suggests the signals for urgency are either too complex for this type of model or the original labels are noisy. \n",
    "Further improvements would require advanced models beyond the scope of this task. So that Proceeding to Entity Extraction.\n",
    "\"\"\""
   ]
  },
  {
   "cell_type": "code",
   "execution_count": 44,
   "id": "a83899d4-66b8-4150-ab26-f892cdfbef39",
   "metadata": {},
   "outputs": [],
   "source": [
    "# Entity extraction"
   ]
  },
  {
   "cell_type": "code",
   "execution_count": 45,
   "id": "4d6d765c-6705-4932-b507-455dc1b7e2c2",
   "metadata": {},
   "outputs": [
    {
     "name": "stdout",
     "output_type": "stream",
     "text": [
      "Known Products: ['SmartWatch V2', 'SoundWave 300', 'PhotoSnap Cam', 'EcoBreeze AC', 'RoboChef Blender']...\n",
      "Complaint Keywords: ['broken', 'defective', 'faulty', 'not working', 'fail']...\n"
     ]
    }
   ],
   "source": [
    "# Getting ready the knowledge base\n",
    "# already have product list containing unique values from the product column\n",
    "\n",
    "import re \n",
    "product_list = df_cleaned['product'].unique().tolist()\n",
    "print(f\"Known Products: {product_list[:5]}...\") \n",
    "\n",
    "# defining complaint keywords list\n",
    "complaint_keywords = [\n",
    "    'broken', 'defective', 'faulty', 'not working', 'fail', 'failed',\n",
    "    'error', 'crash', 'slow', 'issue', 'problem',\n",
    "    'late', 'delayed', 'missing', 'wrong item', 'incorrect'\n",
    "]\n",
    "print(f\"Complaint Keywords: {complaint_keywords[:5]}...\")"
   ]
  },
  {
   "cell_type": "code",
   "execution_count": 49,
   "id": "0ab31041-3a0d-4bb7-81e2-9032bb61de13",
   "metadata": {},
   "outputs": [
    {
     "name": "stdout",
     "output_type": "stream",
     "text": [
      "--- Entities found in: 'FitRun Treadmill is lost. It stopped working after just 3 days. Also, I contacted support on 08 May but got no response' ---\n",
      "{\n",
      "    \"products\": [\n",
      "        \"FitRun Treadmill\"\n",
      "    ],\n",
      "    \"dates\": [\n",
      "        \"just 3\",\n",
      "        \"on 08\"\n",
      "    ],\n",
      "    \"complaint_keywords\": []\n",
      "}\n"
     ]
    }
   ],
   "source": [
    "# defining the entity extraction function\n",
    "import re\n",
    "import json\n",
    "\n",
    "product_list = df_cleaned['product'].unique().tolist()\n",
    "\n",
    "complaint_keywords = [\n",
    "    'broken', 'defective', 'faulty', 'not working', 'fail', 'failed',\n",
    "    'error', 'crash', 'slow', 'issue', 'problem',\n",
    "    'late', 'delayed', 'missing', 'wrong item', 'incorrect'\n",
    "]\n",
    "\n",
    "def extract_entities(text):\n",
    "    extracted_entities = {\n",
    "        \"products\": [],\n",
    "        \"dates\": [],\n",
    "        \"complaint_keywords\": []\n",
    "    }\n",
    "    \n",
    "    found_products = set()\n",
    "    for product in product_list:\n",
    "        if re.search(r'\\b' + re.escape(product) + r'\\b', text, re.IGNORECASE):\n",
    "            found_products.add(product)\n",
    "    extracted_entities[\"products\"] = list(found_products)\n",
    "\n",
    "    date_pattern = r'\\b(?:\\d{4}-\\d{1,2}-\\d{1,2}|\\d{1,2}/\\d{1,2}/\\d{4}|\\w+\\s\\d{1,2}(?:st|nd|rd|th)?(?:,\\s\\d{4})?|\\b(?:Jan|Feb|Mar|Apr|May|Jun|Jul|Aug|Sep|Oct|Nov|Dec)[a-z]*\\s\\d{1,2})\\b'\n",
    "    extracted_entities[\"dates\"] = re.findall(date_pattern, text, re.IGNORECASE)\n",
    "\n",
    "    found_keywords = set()\n",
    "    for keyword in complaint_keywords:\n",
    "        if re.search(r'\\b' + re.escape(keyword) + r'\\b', text, re.IGNORECASE):\n",
    "            found_keywords.add(keyword.lower())\n",
    "    extracted_entities[\"complaint_keywords\"] = list(found_keywords)\n",
    "    \n",
    "    return extracted_entities\n",
    "\n",
    "# --- Test Run ---\n",
    "test_text = \"FitRun Treadmill is lost. It stopped working after just 3 days. Also, I contacted support on 08 May but got no response\"\n",
    "found_entities = extract_entities(test_text)\n",
    "\n",
    "print(f\"--- Entities found in: '{test_text}' ---\")\n",
    "print(json.dumps(found_entities, indent=4))"
   ]
  },
  {
   "cell_type": "code",
   "execution_count": null,
   "id": "2d37ad3e-b7f7-4479-99e2-6a3a62833f01",
   "metadata": {},
   "outputs": [],
   "source": [
    "\"\"\"While the keyword-based approach is a good starting point, it is not robust. \n",
    "The small, fixed list of keywords cannot scale to the variety of user expressions in a large dataset. \n",
    "To build a more flexible and accurate system, I will proceed with a more advanced method using grammatical pattern matching (POS tagging and chunking).\"\"\""
   ]
  },
  {
   "cell_type": "code",
   "execution_count": 48,
   "id": "4bf5e805-24f7-4896-8375-8ed26b873432",
   "metadata": {},
   "outputs": [
    {
     "name": "stderr",
     "output_type": "stream",
     "text": [
      "[nltk_data] Downloading package averaged_perceptron_tagger_eng to\n",
      "[nltk_data]     C:\\Users\\HP\\AppData\\Roaming\\nltk_data...\n"
     ]
    },
    {
     "name": "stdout",
     "output_type": "stream",
     "text": [
      "--- Advanced Entities found in: 'FitRun Treadmill is lost. It stopped working after just 3 days. Also, I contacted support on 08 May but got no response' ---\n",
      "{\n",
      "    \"products\": [\n",
      "        \"FitRun Treadmill\"\n",
      "    ],\n",
      "    \"dates\": [\n",
      "        \"08 May\"\n",
      "    ],\n",
      "    \"complaint_phrases\": [\n",
      "        \"is lost\",\n",
      "        \"stopped working\"\n",
      "    ]\n",
      "}\n"
     ]
    },
    {
     "name": "stderr",
     "output_type": "stream",
     "text": [
      "[nltk_data]   Unzipping taggers\\averaged_perceptron_tagger_eng.zip.\n"
     ]
    }
   ],
   "source": [
    "# advanced entity extraction using POS tagging and chunking.\n",
    "\n",
    "import re\n",
    "import nltk\n",
    "nltk.download('averaged_perceptron_tagger_eng')\n",
    "import json\n",
    "\n",
    "product_list = df_cleaned['product'].unique().tolist()\n",
    "\n",
    "def extract_entities_advanced(text):\n",
    "    extracted_entities = {\n",
    "        \"products\": [],\n",
    "        \"dates\": [],\n",
    "        \"complaint_phrases\": []\n",
    "    }\n",
    "\n",
    "    grammar = r\"NP: {<JJ.*>*<NN.*>+}\"\n",
    "    tokens = nltk.word_tokenize(text)\n",
    "    pos_tags = nltk.pos_tag(tokens)\n",
    "    chunk_parser = nltk.RegexpParser(grammar)\n",
    "    tree = chunk_parser.parse(pos_tags)\n",
    "    \n",
    "    found_products = set()\n",
    "    for subtree in tree.subtrees(filter=lambda t: t.label() == 'NP'):\n",
    "        potential_product = \" \".join(word for word, tag in subtree.leaves())\n",
    "        for known_product in product_list:\n",
    "            if known_product.lower() in potential_product.lower():\n",
    "                found_products.add(known_product)\n",
    "    extracted_entities[\"products\"] = list(found_products)\n",
    "\n",
    "    date_pattern = r'\\b(?:\\d{4}-\\d{1,2}-\\d{1,2}|\\d{1,2}/\\d{1,2}/\\d{4}|(?:Jan|Feb|Mar|Apr|May|Jun|Jul|Aug|Sep|Oct|Nov|Dec)[a-z]*\\s\\d{1,2}(?:st|nd|rd|th)?(?:,?\\s\\d{4})?|\\d{1,2}\\s(?:Jan|Feb|Mar|Apr|May|Jun|Jul|Aug|Sep|Oct|Nov|Dec)[a-z]*(?:,?\\s\\d{4})?)\\b'\n",
    "    extracted_entities[\"dates\"] = re.findall(date_pattern, text, re.IGNORECASE)\n",
    "\n",
    "    complaint_grammar = r\"VP: {<VB.*>+<RB|RP|JJ|VBN|VBG>*}\"\n",
    "    complaint_parser = nltk.RegexpParser(complaint_grammar)\n",
    "    complaint_tree = complaint_parser.parse(pos_tags)\n",
    "    \n",
    "    complaint_phrases = set()\n",
    "    root_complaint_words = ['broken', 'defective', 'faulty', 'working', 'fail', 'error', 'crash', 'slow', 'late', 'delayed', 'missing', 'lost', 'unresponsive']\n",
    "    \n",
    "    for subtree in complaint_tree.subtrees(filter=lambda t: t.label() == 'VP'):\n",
    "        phrase_words = [word for word, tag in subtree.leaves()]\n",
    "        if any(root_word in phrase_words for root_word in root_complaint_words):\n",
    "            complaint_phrases.add(\" \".join(phrase_words))\n",
    "    extracted_entities[\"complaint_phrases\"] = list(complaint_phrases)\n",
    "\n",
    "    return extracted_entities\n",
    "\n",
    "#Test Run\n",
    "test_text = \"FitRun Treadmill is lost. It stopped working after just 3 days. Also, I contacted support on 08 May but got no response\"\n",
    "found_entities = extract_entities_advanced(test_text)\n",
    "\n",
    "print(f\"--- Advanced Entities found in: '{test_text}' ---\")\n",
    "print(json.dumps(found_entities, indent=4))"
   ]
  },
  {
   "cell_type": "code",
   "execution_count": null,
   "id": "baeec4e7-4227-41aa-a5a4-53eb92ab2b62",
   "metadata": {},
   "outputs": [],
   "source": [
    "# Integration\n",
    "# function that takes raw ticket_text as input and returns:\n",
    "# Predicted issue_type\n",
    "# Predicted urgency_level\n",
    "# Extracted entities (as a JSON/dictionary)"
   ]
  },
  {
   "cell_type": "code",
   "execution_count": 50,
   "id": "c23a52f9-6f44-41ad-bd6c-de857fd123c5",
   "metadata": {},
   "outputs": [
    {
     "name": "stdout",
     "output_type": "stream",
     "text": [
      "--- Analysis of New Ticket ---\n",
      "{\n",
      "    \"predicted_issue_type\": \"Late Delivery\",\n",
      "    \"predicted_urgency_level\": \"Medium\",\n",
      "    \"entities\": {\n",
      "        \"products\": [\n",
      "            \"FitRun Treadmill\"\n",
      "        ],\n",
      "        \"dates\": [\n",
      "            \"2023-11-10\"\n",
      "        ],\n",
      "        \"complaint_phrases\": [\n",
      "            \"is not working\"\n",
      "        ]\n",
      "    }\n",
      "}\n"
     ]
    }
   ],
   "source": [
    "from textblob import TextBlob\n",
    "from scipy.sparse import hstack\n",
    "import json\n",
    "\n",
    "def process_ticket(raw_text):\n",
    "    \n",
    "    processed_text_for_model = preprocess_text(raw_text)\n",
    "    \n",
    "    text_tfidf = tfidf_vectorizer.transform([processed_text_for_model])\n",
    "    \n",
    "    ticket_len = len(raw_text.split())\n",
    "    sentiment = TextBlob(raw_text).sentiment.polarity\n",
    "    \n",
    "    additional_features = scaler.transform([[ticket_len, sentiment]])\n",
    "    \n",
    "    combined_features = hstack([text_tfidf, additional_features])\n",
    "    \n",
    "    predicted_issue = issue_classifier.predict(combined_features)[0]\n",
    "    predicted_urgency = urgency_classifier.predict(combined_features)[0]\n",
    "    \n",
    "    extracted_entities = extract_entities_advanced(raw_text)\n",
    "\n",
    "    final_result = {\n",
    "        \"predicted_issue_type\": predicted_issue,\n",
    "        \"predicted_urgency_level\": predicted_urgency,\n",
    "        \"entities\": extracted_entities\n",
    "    }\n",
    "    \n",
    "    return final_result\n",
    "\n",
    "#Test Run\n",
    "new_ticket = \"I ordered a FitRun Treadmill on 2023-11-10 and it still has not arrived. This delay is unacceptable and the tracking number is not working. This is a very late delivery!\"\n",
    "\n",
    "ticket_analysis = process_ticket(new_ticket)\n",
    "\n",
    "print(\"--- Analysis of New Ticket ---\")\n",
    "print(json.dumps(ticket_analysis, indent=4))"
   ]
  },
  {
   "cell_type": "code",
   "execution_count": null,
   "id": "b7def9fa-33e0-4c9f-9126-9b50b28751cd",
   "metadata": {},
   "outputs": [],
   "source": [
    "# saving the models and other artifacts with joblib"
   ]
  },
  {
   "cell_type": "code",
   "execution_count": 51,
   "id": "f467b9fe-d1c9-4c6e-828e-0e7dac8aeb3c",
   "metadata": {},
   "outputs": [
    {
     "data": {
      "text/plain": [
       "['product_list.joblib']"
      ]
     },
     "execution_count": 51,
     "metadata": {},
     "output_type": "execute_result"
    }
   ],
   "source": [
    "import joblib\n",
    "\n",
    "joblib.dump(issue_classifier, 'issue_classifier.joblib')\n",
    "joblib.dump(urgency_classifier, 'urgency_classifier.joblib')\n",
    "joblib.dump(tfidf_vectorizer, 'tfidf_vectorizer.joblib')\n",
    "joblib.dump(scaler, 'scaler.joblib')\n",
    "joblib.dump(product_list, 'product_list.joblib')"
   ]
  }
 ],
 "metadata": {
  "kernelspec": {
   "display_name": "Python 3 (ipykernel)",
   "language": "python",
   "name": "python3"
  },
  "language_info": {
   "codemirror_mode": {
    "name": "ipython",
    "version": 3
   },
   "file_extension": ".py",
   "mimetype": "text/x-python",
   "name": "python",
   "nbconvert_exporter": "python",
   "pygments_lexer": "ipython3",
   "version": "3.12.4"
  }
 },
 "nbformat": 4,
 "nbformat_minor": 5
}
